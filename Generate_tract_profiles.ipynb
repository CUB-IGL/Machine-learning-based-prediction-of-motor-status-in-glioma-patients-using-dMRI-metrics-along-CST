{
 "cells": [
  {
   "cell_type": "markdown",
   "metadata": {},
   "source": [
    "# Create tract profiles and make DataFrames\n",
    "In the following notebook, we will demonstrate how to read raw data *( .csv files)*, create CST profiles based on dMRI metrics (AD, ADC, FA, FD and RD) using \"Median\" and \"Weighted-Mean (based on Mahalanobis distance)\"."
   ]
  },
  {
   "cell_type": "code",
   "execution_count": 1,
   "metadata": {},
   "outputs": [],
   "source": [
    "import numpy as np\n",
    "import pandas as pd\n",
    "from numpy import isnan\n",
    "from sklearn import preprocessing\n",
    "from scipy.stats import kurtosis, skew\n",
    "from sklearn.preprocessing import StandardScaler, MinMaxScaler\n",
    "from scipy import interp\n",
    "from Profiling_dataframes import profiling, dataframe_dMRI_profile"
   ]
  },
  {
   "cell_type": "code",
   "execution_count": 2,
   "metadata": {},
   "outputs": [],
   "source": [
    "# Path to the patient table\n",
    "patient_table = '/Users/boshra/Desktop/final_table_stat.xlsx'\n",
    "xls = pd.ExcelFile(patient_table)\n",
    "data = xls.parse(xls.sheet_names[0])\n",
    "subjN = data.shape[0]\n",
    "age = np.array(data['age'])\n",
    "RMT = np.array(data['MT_P'])\n",
    "path_side = np.array(data['pathologic_side'])\n",
    "path_loc = np.array(data['pathology_location'])\n",
    "motor_status_preop = np.array(data['motor_status'])"
   ]
  },
  {
   "cell_type": "markdown",
   "metadata": {},
   "source": [
    "## For SVM_1 and SVM_2"
   ]
  },
  {
   "cell_type": "code",
   "execution_count": 3,
   "metadata": {},
   "outputs": [],
   "source": [
    "# path to data /Users/boshra/Desktop/Boshra/all_patients/\n",
    "raw_data_path = '/Users/boshra/Desktop/Boshra/all_patients/'\n",
    "strm_median_P, strm_median_H, strm_median_P_fd, strm_median_H_fd,strm_median_P_adc, strm_median_H_adc, strm_median_P_rd, strm_median_H_rd, strm_median_P_ad, strm_median_H_ad = profiling(path_side, subjN, raw_data_path, method='Median')\n",
    "\n",
    "new_data_median = dataframe_dMRI_profile(strm_median_P, \n",
    "                                             strm_median_H,\n",
    "                                             strm_median_P_fd,\n",
    "                                             strm_median_H_fd,\n",
    "                                             strm_median_P_adc,\n",
    "                                             strm_median_H_adc,\n",
    "                                             strm_median_P_rd,\n",
    "                                             strm_median_H_rd,\n",
    "                                             strm_median_P_ad,\n",
    "                                             strm_median_H_ad,\n",
    "                                             data)\n",
    "# Save DataFrame for Median-based tract profiles\n",
    "new_data_median.to_csv('/Users/boshra/Desktop/my_table_patients_medianprofile_measure.csv')\n"
   ]
  },
  {
   "cell_type": "markdown",
   "metadata": {},
   "source": [
    "## For SVM_3 and SVM_4"
   ]
  },
  {
   "cell_type": "code",
   "execution_count": 4,
   "metadata": {},
   "outputs": [],
   "source": [
    "# path to data /Users/boshra/Desktop/Boshra/all_patients/\n",
    "raw_data_path = '/Users/boshra/Desktop/Boshra/all_patients/'\n",
    "strm_mahal_P, strm_mahal_H, strm_mahal_P_fd, strm_mahal_H_fd,strm_mahal_P_adc, strm_mahal_H_adc, strm_mahal_P_rd, strm_mahal_H_rd, strm_mahal_P_ad, strm_mahal_H_ad = profiling(path_side, subjN, raw_data_path, method='Mahalanobis')\n",
    "\n",
    "new_data_mahal = dataframe_dMRI_profile(strm_mahal_P, \n",
    "                                             strm_mahal_H,\n",
    "                                             strm_mahal_P_fd,\n",
    "                                             strm_mahal_H_fd,\n",
    "                                             strm_mahal_P_adc,\n",
    "                                             strm_mahal_H_adc,\n",
    "                                             strm_mahal_P_rd,\n",
    "                                             strm_mahal_H_rd,\n",
    "                                             strm_mahal_P_ad,\n",
    "                                             strm_mahal_H_ad,\n",
    "                                             data)\n",
    "# Save DataFrame for Weighted-mean tract profiles based on Mahalanobis distance\n",
    "new_data_mahal.to_csv('/Users/boshra/Desktop/my_table_patients_mahalanobisprofile_measure.csv')\n"
   ]
  }
 ],
 "metadata": {
  "kernelspec": {
   "display_name": "Python 3",
   "language": "python",
   "name": "python3"
  },
  "language_info": {
   "codemirror_mode": {
    "name": "ipython",
    "version": 3
   },
   "file_extension": ".py",
   "mimetype": "text/x-python",
   "name": "python",
   "nbconvert_exporter": "python",
   "pygments_lexer": "ipython3",
   "version": "3.8.6"
  }
 },
 "nbformat": 4,
 "nbformat_minor": 4
}
