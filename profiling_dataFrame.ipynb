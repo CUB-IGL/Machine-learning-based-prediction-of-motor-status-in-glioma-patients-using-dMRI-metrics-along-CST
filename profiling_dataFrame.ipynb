{
 "cells": [
  {
   "cell_type": "markdown",
   "metadata": {},
   "source": [
    "<b>Creating tract profiles and make DataFrames</b>"
   ]
  },
  {
   "cell_type": "code",
   "execution_count": null,
   "metadata": {},
   "outputs": [],
   "source": [
    "import numpy as np\n",
    "import pandas as pd\n",
    "from numpy import isnan\n",
    "from sklearn import preprocessing\n",
    "from scipy.stats import kurtosis, skew\n",
    "from sklearn.preprocessing import StandardScaler, MinMaxScaler\n",
    "from scipy import interp\n",
    "from helper_fucntions import Clustering_streamlines, mahal_features, cal_mahal_profile, check_data, extract_value_H_P\n",
    "from helper_fucntions import extract_stat_per_hemis, extract_stat_dif_of_hemis, loadrawdata_R_new"
   ]
  },
  {
   "cell_type": "code",
   "execution_count": 16,
   "metadata": {},
   "outputs": [],
   "source": [
    "scaler = StandardScaler()\n",
    "xls = pd.ExcelFile('/Users/boshra/Desktop/final_table_stat.xlsx')\n",
    "data = xls.parse(xls.sheet_names[0])\n",
    "subjN = data.shape[0]\n",
    "age = np.array(data['age'])\n",
    "path_side = np.array(data['pathologic_side'])\n",
    "path_loc = np.array(data['pathology_location'])\n",
    "motor_status_preop = np.array(data['motor_status'])"
   ]
  },
  {
   "cell_type": "code",
   "execution_count": null,
   "metadata": {},
   "outputs": [],
   "source": [
    "# Load dMRI metrics (.csv Mrtrix output files) for both hemispheres\n",
    "adc_data = loadrawdata_R_new('adc',subjN)\n",
    "fa_data = loadrawdata_R_new('fa',subjN)\n",
    "fd_data = loadrawdata_R_new('fd',subjN)\n",
    "rd_data = loadrawdata_R_new('rd',subjN)\n",
    "ad_data = loadrawdata_R_new('ad',subjN)"
   ]
  },
  {
   "cell_type": "code",
   "execution_count": null,
   "metadata": {},
   "outputs": [],
   "source": [
    "adc_data_P,fa_data_P,fd_data_P, ad_data_P, rd_data_P, adc_data_H,\n",
    "    fa_data_H,fd_data_H, ad_data_H, rd_data_H = extract_value_H_P(adc_data, fa_data, fd_data,rd_data, ad_data, path_side, subjN)\n"
   ]
  },
  {
   "cell_type": "code",
   "execution_count": null,
   "metadata": {},
   "outputs": [],
   "source": [
    "# Median-based profiling\n",
    "strm_median_P = np.median(fa_data_P, axis=0).T; #strm_median_P = np.delete(strm_median_P, status_remove, 0)\n",
    "strm_median_H = np.median(fa_data_H, axis=0).T; #strm_median_H= np.delete(strm_median_H, status_remove, 0) [:,:,0:65]\n",
    "strm_mean_P_fd = np.median(fd_data_P, axis=0).T; #strm_mean_P_fd = np.delete(strm_mean_P_fd, status_remove, 0)\n",
    "strm_mean_H_fd = np.median(fd_data_H, axis=0).T; #strm_mean_H_fd = np.delete(strm_mean_H_fd, status_remove, 0)\n",
    "strm_median_P_adc = np.median(adc_data_P, axis=0).T; #strm_median_P_adc = np.delete(strm_median_P_adc, status_remove, 0)\n",
    "strm_median_H_adc = np.median(adc_data_H, axis=0).T; #strm_median_H_adc = np.delete(strm_median_H_adc, status_remove, 0)\n",
    "strm_median_P_rd = np.median(rd_data_P, axis=0).T; #strm_median_P_adc = np.delete(strm_median_P_adc, status_remove, 0)\n",
    "strm_median_H_rd = np.median(rd_data_H, axis=0).T;\n",
    "strm_median_P_ad = np.median(ad_data_P, axis=0).T; #strm_median_P_adc = np.delete(strm_median_P_adc, status_remove, 0)\n",
    "strm_median_H_ad = np.median(ad_data_H, axis=0).T;"
   ]
  },
  {
   "cell_type": "code",
   "execution_count": null,
   "metadata": {},
   "outputs": [],
   "source": [
    "strm_median_P = np.median(fa_data_P, axis=0).T; #strm_median_P = np.delete(strm_median_P, status_remove, 0)\n",
    "strm_median_H = np.median(fa_data_H, axis=0).T; #strm_median_H= np.delete(strm_median_H, status_remove, 0) [:,:,0:65]\n",
    "strm_mean_P_fd = np.median(fd_data_P, axis=0).T; #strm_mean_P_fd = np.delete(strm_mean_P_fd, status_remove, 0)\n",
    "strm_mean_H_fd = np.median(fd_data_H, axis=0).T; #strm_mean_H_fd = np.delete(strm_mean_H_fd, status_remove, 0)\n",
    "strm_median_P_adc = np.median(adc_data_P, axis=0).T; #strm_median_P_adc = np.delete(strm_median_P_adc, status_remove, 0)\n",
    "strm_median_H_adc = np.median(adc_data_H, axis=0).T; #strm_median_H_adc = np.delete(strm_median_H_adc, status_remove, 0)\n",
    "strm_median_P_rd = np.median(rd_data_P, axis=0).T; #strm_median_P_adc = np.delete(strm_median_P_adc, status_remove, 0)\n",
    "strm_median_H_rd = np.median(rd_data_H, axis=0).T;\n",
    "strm_median_P_ad = np.median(ad_data_P, axis=0).T; #strm_median_P_adc = np.delete(strm_median_P_adc, status_remove, 0)\n",
    "strm_median_H_ad = np.median(ad_data_H, axis=0).T;"
   ]
  },
  {
   "cell_type": "code",
   "execution_count": null,
   "metadata": {},
   "outputs": [],
   "source": [
    "# Impute Nan values\n",
    "from sklearn.impute import SimpleImputer\n",
    "from sklearn.impute import KNNImputer\n",
    "imp_median = KNNImputer(n_neighbors=20)\n",
    "m0 = np.argwhere(y==0)\n",
    "m1 = np.argwhere(y==1)\n",
    "\n",
    "strm_median_P = imp_median.fit_transform(strm_median_P)\n",
    "strm_median_H = imp_median.fit_transform(strm_median_H)\n",
    "strm_median_P_adc = imp_median.fit_transform(strm_median_P_adc)\n",
    "strm_median_H_adc = imp_median.fit_transform(strm_median_H_adc)\n",
    "strm_median_P_rd = imp_median.fit_transform(strm_median_P_rd)\n",
    "strm_median_H_rd = imp_median.fit_transform(strm_median_H_rd)\n",
    "strm_median_P_ad = imp_median.fit_transform(strm_median_P_ad)\n",
    "strm_median_H_ad = imp_median.fit_transform(strm_median_H_ad)\n",
    "strm_mean_P_fd = imp_median.fit_transform(strm_mean_P_fd)\n",
    "strm_mean_H_fd = imp_median.fit_transform(strm_mean_H_fd)"
   ]
  },
  {
   "cell_type": "code",
   "execution_count": null,
   "metadata": {},
   "outputs": [],
   "source": [
    "# statistical analysis code and scripts:\n",
    "# creating the Data Frame\n",
    "data.loc[data['motor_status']==0,'motor_status']=1\n",
    "data.loc[data['motor_status']==4,'motor_status']=1\n",
    "data.loc[data['motor_status']==5,'motor_status']=0\n",
    "data.loc[data['motor_status']==3,'motor_status']=1\n",
    "data.loc[data['motor_status']==2,'motor_status']=1\n",
    "new_data_sep = pd.DataFrame(columns=['Sub_ID', 'pathologic_side','pathology_location','age', \n",
    "                                     'gender','MT_P','MT_H','RMT_P','RMT_H','Pathology','motor_status',\n",
    "                                     'FAP','FAH','ADCP', 'ADCH','ADP','ADH','RDP','RDH','FDP','FDH','loc'])\n",
    "new_data_sep.astype({'loc': 'int32'})\n",
    "for i in range(strm_median_P.shape[0]):\n",
    "    for j in range(100):\n",
    "        new_data_sep = new_data_sep.append(data.iloc[i])\n",
    "    new_data_sep.iloc[i*100:(i+1)*100,11] = strm_median_P[i,:]\n",
    "    new_data_sep.iloc[i*100:(i+1)*100,12] = strm_median_H[i,:]\n",
    "    new_data_sep.iloc[i*100:(i+1)*100,13] = strm_median_P_adc[i,:]\n",
    "    new_data_sep.iloc[i*100:(i+1)*100,14] = strm_median_H_adc[i,:]\n",
    "    new_data_sep.iloc[i*100:(i+1)*100,15] = strm_median_P_ad[i,:]\n",
    "    new_data_sep.iloc[i*100:(i+1)*100,16] = strm_median_H_ad[i,:] \n",
    "    new_data_sep.iloc[i*100:(i+1)*100,17] = strm_median_P_rd[i,:]\n",
    "    new_data_sep.iloc[i*100:(i+1)*100,18] = strm_median_H_rd[i,:] \n",
    "    new_data_sep.iloc[i*100:(i+1)*100,19] = strm_mean_P_fd[i,:]\n",
    "    new_data_sep.iloc[i*100:(i+1)*100,20] = strm_mean_H_fd[i,:] \n",
    "    new_data_sep.iloc[i*100:(i+1)*100,21] = np.int64(np.arange(0,100))\n",
    "new_data_sep.reset_index()\n",
    "#new_data_sep.to_csv('/Users/boshra/Desktop/my_table_patients.csv') \n",
    "new_data_sep.head()"
   ]
  },
  {
   "cell_type": "code",
   "execution_count": null,
   "metadata": {},
   "outputs": [],
   "source": [
    "feature_fd = extract_stat_per_hemis(strm_mean_P_fd,strm_mean_H_fd)\n",
    "feature_adc = extract_stat_per_hemis(strm_median_P_adc,strm_median_H_adc)\n",
    "feature_fa = extract_stat_per_hemis(strm_median_P,strm_median_H)\n",
    "feature_rd = extract_stat_per_hemis(strm_median_P_rd,strm_median_H_rd)\n",
    "feature_ad = extract_stat_per_hemis(strm_median_P_ad,strm_median_H_ad)\n",
    "\n",
    "feature_CST = np.hstack((feature_fa,feature_rd,feature_adc,feature_fd))  # remove feature_adc\n",
    "X = feature_CST\n",
    "X.shape\n"
   ]
  },
  {
   "cell_type": "code",
   "execution_count": null,
   "metadata": {},
   "outputs": [],
   "source": [
    "# remember to change the output ofs features extraction\n",
    "# ttest for features mean, std, skew and kurtosis\n",
    "tmp = ['metrics','Mean','Standard_deviation','Kurtosis','Skewness','MeanH','STDH','KurtosisH','SkewnessH','motor_status']\n",
    "stats_df = pd.DataFrame(columns=['metrics','Mean','Standard_deviation','Kurtosis','Skewness','MeanH','STDH','KurtosisH','SkewnessH','motor_status'])\n",
    "for i in range(116):\n",
    "    stats_df.loc[i,'metrics'] = 'AD'\n",
    "    stats_df.loc[i,1:9] = feature_ad[i,0:8]\n",
    "    stats_df.iloc[i,9] = motor_status_preop[i]\n",
    "for i in range(116):   \n",
    "    stats_df.loc[i+1*116,'metrics'] = 'ADC'\n",
    "    stats_df.loc[i+1*116,1:9] = feature_adc[i,0:8]\n",
    "    stats_df.iloc[i+1*116,9] = motor_status_preop[i]\n",
    "for i in range(116):  \n",
    "    stats_df.loc[i+116*2,'metrics'] = 'FA'\n",
    "    stats_df.loc[i+116*2,1:9] = feature_fa[i,0:8]\n",
    "    stats_df.iloc[i+116*2,9] = motor_status_preop[i]\n",
    "for i in range(116):   \n",
    "    stats_df.loc[i+116*3,'metrics'] = 'FD'\n",
    "    stats_df.loc[i+116*3,1:9] = feature_fd[i,0:8]\n",
    "    stats_df.iloc[i+116*3,9] = motor_status_preop[i]\n",
    "for i in range(116):    \n",
    "    stats_df.loc[i+116*4,'metrics'] = 'RD'\n",
    "    stats_df.iloc[i+116*4,1:9] = feature_rd[i,0:8]\n",
    "    stats_df.iloc[i+116*4,9] = motor_status_preop[i]\n",
    "stats_df[['Mean','Standard_deviation','Kurtosis','Skewness','MeanH','STDH','KurtosisH','SkewnessH']]=stats_df[['Mean','Standard_deviation','Kurtosis','Skewness','MeanH','STDH','KurtosisH','SkewnessH']].astype('float64')\n",
    "\n",
    "#stats_df.to_csv('/Users/boshra/Desktop/my_table_patients_stats_measures.csv') "
   ]
  }
 ],
 "metadata": {
  "kernelspec": {
   "display_name": "Python 3",
   "language": "python",
   "name": "python3"
  },
  "language_info": {
   "codemirror_mode": {
    "name": "ipython",
    "version": 3
   },
   "file_extension": ".py",
   "mimetype": "text/x-python",
   "name": "python",
   "nbconvert_exporter": "python",
   "pygments_lexer": "ipython3",
   "version": "3.8.6"
  }
 },
 "nbformat": 4,
 "nbformat_minor": 4
}
